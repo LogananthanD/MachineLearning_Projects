{
  "nbformat": 4,
  "nbformat_minor": 0,
  "metadata": {
    "colab": {
      "provenance": [],
      "authorship_tag": "ABX9TyOokT+fWZdRZBVhErl7np7W",
      "include_colab_link": true
    },
    "kernelspec": {
      "name": "python3",
      "display_name": "Python 3"
    },
    "language_info": {
      "name": "python"
    }
  },
  "cells": [
    {
      "cell_type": "markdown",
      "metadata": {
        "id": "view-in-github",
        "colab_type": "text"
      },
      "source": [
        "<a href=\"https://colab.research.google.com/github/LogananthanD/MachineLearning_Projects/blob/main/Mine_vs_Rock_Prediction_Project3.ipynb\" target=\"_parent\"><img src=\"https://colab.research.google.com/assets/colab-badge.svg\" alt=\"Open In Colab\"/></a>"
      ]
    },
    {
      "cell_type": "code",
      "execution_count": null,
      "metadata": {
        "id": "1D1LQxBOYZg5"
      },
      "outputs": [],
      "source": [
        "import numpy as np\n",
        "import pandas as pd"
      ]
    },
    {
      "cell_type": "code",
      "source": [
        "#importing the model\n",
        "from sklearn.linear_model import LogisticRegression"
      ],
      "metadata": {
        "id": "ryVRfb-dYpva"
      },
      "execution_count": null,
      "outputs": []
    },
    {
      "cell_type": "code",
      "source": [
        "#Importing accuracy score\n",
        "from sklearn.metrics import accuracy_score"
      ],
      "metadata": {
        "id": "1XjlElW3YxSf"
      },
      "execution_count": null,
      "outputs": []
    },
    {
      "cell_type": "code",
      "source": [
        "#Importing train test split function\n",
        "from sklearn.model_selection import train_test_split"
      ],
      "metadata": {
        "id": "zdNMHq_pY0GB"
      },
      "execution_count": null,
      "outputs": []
    },
    {
      "cell_type": "code",
      "source": [
        "#Loading the csv file\n",
        "df = pd.read_csv('Sonar Data.csv', header = None)\n",
        "df"
      ],
      "metadata": {
        "id": "Jw5fLVk-Y19e"
      },
      "execution_count": null,
      "outputs": []
    },
    {
      "cell_type": "code",
      "source": [
        "#Find no.of rows and columns\n",
        "df.shape"
      ],
      "metadata": {
        "id": "mQcaIa43Y4dH"
      },
      "execution_count": null,
      "outputs": []
    },
    {
      "cell_type": "code",
      "source": [
        "#Statistical measure of the entire dataset\n",
        "df.describe()"
      ],
      "metadata": {
        "id": "Q6MLeTCqY6gg"
      },
      "execution_count": null,
      "outputs": []
    },
    {
      "cell_type": "code",
      "source": [
        "#Find the number of rocks and mines in the dataset\n",
        "df[60].value_counts()"
      ],
      "metadata": {
        "id": "zjDJiD78Y88v"
      },
      "execution_count": null,
      "outputs": []
    },
    {
      "cell_type": "code",
      "source": [
        "#Based on the last column group by rest of the columns and find the mean value\n",
        "df.groupby(by = 60).mean()"
      ],
      "metadata": {
        "id": "bdOVK_g-Y_Te"
      },
      "execution_count": null,
      "outputs": []
    },
    {
      "cell_type": "code",
      "source": [
        "#Seperating input feature as well as the label\n",
        "X = df.drop(columns = 60, axis = 1) #Input feature\n",
        "Y = df[60] #Label"
      ],
      "metadata": {
        "id": "mxWsuC6QZCBG"
      },
      "execution_count": null,
      "outputs": []
    },
    {
      "cell_type": "code",
      "source": [
        "print(X)"
      ],
      "metadata": {
        "id": "TKM07yzoZFou"
      },
      "execution_count": null,
      "outputs": []
    },
    {
      "cell_type": "code",
      "source": [
        "print(Y)"
      ],
      "metadata": {
        "id": "fc4cbmxPZIN2"
      },
      "execution_count": null,
      "outputs": []
    },
    {
      "cell_type": "code",
      "source": [
        "print(X.shape, X_train.shape, X_test.shape)"
      ],
      "metadata": {
        "id": "hxkgY_m_ZKP1"
      },
      "execution_count": null,
      "outputs": []
    },
    {
      "cell_type": "code",
      "source": [
        "#Model Training\n",
        "model = LogisticRegression()"
      ],
      "metadata": {
        "id": "gpI5U2MsZMmh"
      },
      "execution_count": null,
      "outputs": []
    },
    {
      "cell_type": "code",
      "source": [
        "model.fit(X_train, Y_train)"
      ],
      "metadata": {
        "id": "ch33JyyCZOzU"
      },
      "execution_count": null,
      "outputs": []
    },
    {
      "cell_type": "code",
      "source": [
        "#Model Evaluation\n",
        "#Accuracy score for training data\n",
        "X_train_prediction = model.predict(X_train)\n",
        "training_data_accuracy = accuracy_score(Y_train, X_train_prediction)\n",
        "print(\"Accuracy score of training data\",training_data_accuracy)"
      ],
      "metadata": {
        "id": "Ji5_GTsdZRZT"
      },
      "execution_count": null,
      "outputs": []
    },
    {
      "cell_type": "code",
      "source": [
        "#Model Evaluation\n",
        "#Accuracy score for training data\n",
        "X_test_prediction = model.predict(X_test)\n",
        "testing_data_accuracy = accuracy_score(Y_test, X_test_prediction)\n",
        "print(\"Accuracy score of testing data\",testing_data_accuracy)"
      ],
      "metadata": {
        "id": "PNYutrBHZToW"
      },
      "execution_count": null,
      "outputs": []
    },
    {
      "cell_type": "code",
      "source": [
        "#Building a Predictive System\n",
        "input_data = (0.0163,0.0198,0.0202,0.0386,0.0752,0.1444,0.1487,0.1484,0.2442,0.2822,0.3691,0.3750,0.3927,0.3308,0.1085,0.1139,0.3446,0.5441,0.6470,0.7276,0.7894,0.8264,0.8697,0.7836,0.7140,0.5698,0.2908,0.4636,0.6409,0.7405,0.8069,0.8420,1.0000,0.9536,0.6755,0.3905,0.1249,0.3629,0.6356,0.8116,0.7664,0.5417,0.2614,0.1723,0.2814,0.2764,0.1985,0.1502,0.1219,0.0493,0.0027,0.0077,0.0026,0.0031,0.0083,0.0020,0.0084,0.0108,0.0083,0.0033)\n",
        "#Chaning the input data to numpy array\n",
        "input_data_as_numpy_array = np.asarray(input_data)\n",
        "#Reshape the np array as we are predicting for one data point\n",
        "input_data_reshaped = input_data_as_numpy_array.reshape(1,-1)"
      ],
      "metadata": {
        "id": "QuFq6x_gZWB4"
      },
      "execution_count": null,
      "outputs": []
    },
    {
      "cell_type": "code",
      "source": [
        "prediction = model.predict(input_data_reshaped)\n",
        "if prediction == 'R':\n",
        "  print(\"Rock\")\n",
        "else:\n",
        "  print(\"Mine\")"
      ],
      "metadata": {
        "id": "TdpdCiwDZZmw"
      },
      "execution_count": null,
      "outputs": []
    }
  ]
}